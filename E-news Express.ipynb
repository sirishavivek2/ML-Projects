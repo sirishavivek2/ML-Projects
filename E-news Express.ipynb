{
 "cells": [
  {
   "cell_type": "code",
   "execution_count": 0,
   "metadata": {
    "application/vnd.databricks.v1+cell": {
     "cellMetadata": {
      "byteLimit": 2048000,
      "rowLimit": 10000
     },
     "inputWidgets": {},
     "nuid": "96816ed7-b08a-4ca3-abb9-f99880c3535d",
     "showTitle": false,
     "tableResultSettingsMap": {},
     "title": ""
    }
   },
   "outputs": [],
   "source": [
    "Project Business Statistics: E-news Express\n",
    "Define Problem Statement and Objectives"
   ]
  },
  {
   "cell_type": "code",
   "execution_count": 0,
   "metadata": {
    "application/vnd.databricks.v1+cell": {
     "cellMetadata": {
      "byteLimit": 2048000,
      "rowLimit": 10000
     },
     "inputWidgets": {},
     "nuid": "6482be4c-f067-47c9-b0ac-35c938b94601",
     "showTitle": false,
     "tableResultSettingsMap": {},
     "title": ""
    }
   },
   "outputs": [
    {
     "output_type": "display_data",
     "data": {
      "text/html": [
       "<style scoped>\n",
       "  .table-result-container {\n",
       "    max-height: 300px;\n",
       "    overflow: auto;\n",
       "  }\n",
       "  table, th, td {\n",
       "    border: 1px solid black;\n",
       "    border-collapse: collapse;\n",
       "  }\n",
       "  th, td {\n",
       "    padding: 5px;\n",
       "  }\n",
       "  th {\n",
       "    text-align: left;\n",
       "  }\n",
       "</style><div class='table-result-container'><table class='table-result'><thead style='background-color: white'><tr><th>user_id</th><th>group</th><th>landing_page</th><th>time_spent_on_the_page</th><th>converted</th><th>language_preferred</th></tr></thead><tbody><tr><td>546592</td><td>control</td><td>old</td><td>3.48</td><td>no</td><td>Spanish</td></tr><tr><td>546468</td><td>treatment</td><td>new</td><td>7.13</td><td>yes</td><td>English</td></tr><tr><td>546462</td><td>treatment</td><td>new</td><td>4.4</td><td>no</td><td>Spanish</td></tr><tr><td>546567</td><td>control</td><td>old</td><td>3.02</td><td>no</td><td>French</td></tr><tr><td>546459</td><td>treatment</td><td>new</td><td>4.75</td><td>yes</td><td>Spanish</td></tr><tr><td>546558</td><td>control</td><td>old</td><td>5.28</td><td>yes</td><td>English</td></tr><tr><td>546448</td><td>treatment</td><td>new</td><td>5.25</td><td>yes</td><td>French</td></tr><tr><td>546581</td><td>control</td><td>old</td><td>6.53</td><td>yes</td><td>Spanish</td></tr><tr><td>546461</td><td>treatment</td><td>new</td><td>10.71</td><td>yes</td><td>French</td></tr><tr><td>546548</td><td>control</td><td>old</td><td>2.08</td><td>no</td><td>English</td></tr><tr><td>546588</td><td>control</td><td>old</td><td>6.21</td><td>yes</td><td>Spanish</td></tr><tr><td>546546</td><td>control</td><td>old</td><td>2.58</td><td>yes</td><td>English</td></tr><tr><td>546491</td><td>treatment</td><td>new</td><td>5.86</td><td>yes</td><td>Spanish</td></tr><tr><td>546478</td><td>treatment</td><td>new</td><td>6.03</td><td>yes</td><td>French</td></tr><tr><td>546578</td><td>control</td><td>old</td><td>8.72</td><td>yes</td><td>Spanish</td></tr><tr><td>546466</td><td>treatment</td><td>new</td><td>6.27</td><td>yes</td><td>Spanish</td></tr><tr><td>546443</td><td>treatment</td><td>new</td><td>8.73</td><td>no</td><td>English</td></tr><tr><td>546555</td><td>control</td><td>old</td><td>0.4</td><td>no</td><td>English</td></tr><tr><td>546493</td><td>control</td><td>old</td><td>10.3</td><td>yes</td><td>English</td></tr><tr><td>546549</td><td>control</td><td>old</td><td>3.88</td><td>yes</td><td>English</td></tr><tr><td>546560</td><td>control</td><td>old</td><td>2.66</td><td>no</td><td>French</td></tr><tr><td>546584</td><td>control</td><td>old</td><td>7.03</td><td>yes</td><td>Spanish</td></tr><tr><td>546450</td><td>treatment</td><td>new</td><td>3.65</td><td>no</td><td>English</td></tr><tr><td>546475</td><td>treatment</td><td>new</td><td>7.02</td><td>yes</td><td>English</td></tr><tr><td>546456</td><td>treatment</td><td>new</td><td>6.18</td><td>no</td><td>Spanish</td></tr><tr><td>546455</td><td>treatment</td><td>new</td><td>4.39</td><td>no</td><td>English</td></tr><tr><td>546469</td><td>treatment</td><td>new</td><td>9.49</td><td>yes</td><td>English</td></tr><tr><td>546586</td><td>control</td><td>old</td><td>4.05</td><td>no</td><td>Spanish</td></tr><tr><td>546471</td><td>treatment</td><td>new</td><td>7.81</td><td>yes</td><td>French</td></tr><tr><td>546575</td><td>control</td><td>old</td><td>4.28</td><td>no</td><td>French</td></tr><tr><td>546464</td><td>treatment</td><td>new</td><td>5.41</td><td>yes</td><td>English</td></tr><tr><td>546556</td><td>control</td><td>old</td><td>3.52</td><td>yes</td><td>English</td></tr><tr><td>546585</td><td>control</td><td>old</td><td>5.39</td><td>yes</td><td>Spanish</td></tr><tr><td>546577</td><td>control</td><td>old</td><td>4.52</td><td>no</td><td>Spanish</td></tr><tr><td>546587</td><td>control</td><td>old</td><td>4.46</td><td>no</td><td>Spanish</td></tr><tr><td>546552</td><td>control</td><td>old</td><td>8.5</td><td>yes</td><td>English</td></tr><tr><td>546551</td><td>control</td><td>old</td><td>3.13</td><td>no</td><td>English</td></tr><tr><td>546557</td><td>control</td><td>old</td><td>6.04</td><td>yes</td><td>English</td></tr><tr><td>546487</td><td>treatment</td><td>new</td><td>1.65</td><td>no</td><td>Spanish</td></tr><tr><td>546589</td><td>control</td><td>old</td><td>0.19</td><td>no</td><td>Spanish</td></tr><tr><td>546559</td><td>control</td><td>old</td><td>8.46</td><td>yes</td><td>French</td></tr><tr><td>546570</td><td>control</td><td>old</td><td>1.92</td><td>no</td><td>French</td></tr><tr><td>546489</td><td>treatment</td><td>new</td><td>7.16</td><td>yes</td><td>Spanish</td></tr><tr><td>546453</td><td>treatment</td><td>new</td><td>7.16</td><td>yes</td><td>English</td></tr><tr><td>546488</td><td>treatment</td><td>new</td><td>3.91</td><td>no</td><td>English</td></tr><tr><td>546565</td><td>control</td><td>old</td><td>8.02</td><td>no</td><td>French</td></tr><tr><td>546460</td><td>treatment</td><td>new</td><td>5.37</td><td>yes</td><td>French</td></tr><tr><td>546458</td><td>treatment</td><td>new</td><td>7.23</td><td>yes</td><td>Spanish</td></tr><tr><td>546492</td><td>treatment</td><td>new</td><td>8.08</td><td>yes</td><td>Spanish</td></tr><tr><td>546473</td><td>treatment</td><td>new</td><td>10.5</td><td>yes</td><td>English</td></tr><tr><td>546554</td><td>control</td><td>old</td><td>0.22</td><td>no</td><td>English</td></tr><tr><td>546457</td><td>treatment</td><td>new</td><td>5.65</td><td>no</td><td>English</td></tr><tr><td>546479</td><td>treatment</td><td>new</td><td>6.47</td><td>yes</td><td>Spanish</td></tr><tr><td>546576</td><td>control</td><td>old</td><td>4.71</td><td>no</td><td>Spanish</td></tr><tr><td>546482</td><td>treatment</td><td>new</td><td>6.41</td><td>yes</td><td>Spanish</td></tr><tr><td>546563</td><td>control</td><td>old</td><td>0.93</td><td>no</td><td>French</td></tr><tr><td>546569</td><td>control</td><td>old</td><td>1.81</td><td>no</td><td>French</td></tr><tr><td>546454</td><td>treatment</td><td>new</td><td>8.3</td><td>yes</td><td>French</td></tr><tr><td>546562</td><td>control</td><td>old</td><td>7.4</td><td>yes</td><td>French</td></tr><tr><td>546574</td><td>control</td><td>old</td><td>9.15</td><td>no</td><td>French</td></tr><tr><td>546470</td><td>treatment</td><td>new</td><td>6.01</td><td>yes</td><td>French</td></tr><tr><td>546467</td><td>treatment</td><td>new</td><td>6.79</td><td>yes</td><td>French</td></tr><tr><td>546572</td><td>control</td><td>old</td><td>4.18</td><td>no</td><td>French</td></tr><tr><td>546590</td><td>control</td><td>old</td><td>5.47</td><td>no</td><td>Spanish</td></tr><tr><td>546553</td><td>control</td><td>old</td><td>5.96</td><td>yes</td><td>English</td></tr><tr><td>546445</td><td>treatment</td><td>new</td><td>7.27</td><td>yes</td><td>French</td></tr><tr><td>546545</td><td>control</td><td>old</td><td>6.6</td><td>yes</td><td>English</td></tr><tr><td>546582</td><td>control</td><td>old</td><td>4.75</td><td>yes</td><td>Spanish</td></tr><tr><td>546484</td><td>treatment</td><td>new</td><td>6.7</td><td>no</td><td>Spanish</td></tr><tr><td>546579</td><td>control</td><td>old</td><td>2.23</td><td>no</td><td>Spanish</td></tr><tr><td>546568</td><td>control</td><td>old</td><td>0.4</td><td>no</td><td>French</td></tr><tr><td>546476</td><td>treatment</td><td>new</td><td>5.42</td><td>yes</td><td>French</td></tr><tr><td>546452</td><td>treatment</td><td>new</td><td>5.08</td><td>yes</td><td>English</td></tr><tr><td>546444</td><td>treatment</td><td>new</td><td>7.46</td><td>yes</td><td>English</td></tr><tr><td>546591</td><td>control</td><td>old</td><td>4.87</td><td>no</td><td>Spanish</td></tr><tr><td>546583</td><td>control</td><td>old</td><td>6.57</td><td>yes</td><td>Spanish</td></tr><tr><td>546573</td><td>control</td><td>old</td><td>1.44</td><td>no</td><td>French</td></tr><tr><td>546485</td><td>treatment</td><td>new</td><td>3.88</td><td>no</td><td>Spanish</td></tr><tr><td>546486</td><td>treatment</td><td>new</td><td>9.12</td><td>yes</td><td>French</td></tr><tr><td>546547</td><td>control</td><td>old</td><td>3.21</td><td>yes</td><td>English</td></tr><tr><td>546490</td><td>treatment</td><td>new</td><td>4.68</td><td>no</td><td>French</td></tr><tr><td>546449</td><td>treatment</td><td>new</td><td>5.26</td><td>yes</td><td>French</td></tr><tr><td>546463</td><td>treatment</td><td>new</td><td>5.74</td><td>yes</td><td>Spanish</td></tr><tr><td>546580</td><td>control</td><td>old</td><td>2.9</td><td>no</td><td>Spanish</td></tr><tr><td>546571</td><td>control</td><td>old</td><td>4.3</td><td>no</td><td>French</td></tr><tr><td>546564</td><td>control</td><td>old</td><td>0.91</td><td>no</td><td>French</td></tr><tr><td>546465</td><td>treatment</td><td>new</td><td>6.71</td><td>no</td><td>English</td></tr><tr><td>546480</td><td>treatment</td><td>new</td><td>3.68</td><td>no</td><td>French</td></tr><tr><td>546447</td><td>treatment</td><td>new</td><td>3.3</td><td>no</td><td>French</td></tr><tr><td>546561</td><td>control</td><td>old</td><td>6.04</td><td>yes</td><td>French</td></tr><tr><td>546477</td><td>treatment</td><td>new</td><td>5.4</td><td>no</td><td>French</td></tr><tr><td>546451</td><td>treatment</td><td>new</td><td>8.47</td><td>yes</td><td>English</td></tr><tr><td>546566</td><td>control</td><td>old</td><td>8.35</td><td>no</td><td>French</td></tr><tr><td>546474</td><td>treatment</td><td>new</td><td>4.94</td><td>no</td><td>French</td></tr><tr><td>546550</td><td>control</td><td>old</td><td>3.05</td><td>no</td><td>English</td></tr><tr><td>546446</td><td>treatment</td><td>new</td><td>5.15</td><td>no</td><td>Spanish</td></tr><tr><td>546544</td><td>control</td><td>old</td><td>6.52</td><td>yes</td><td>English</td></tr><tr><td>546472</td><td>treatment</td><td>new</td><td>7.07</td><td>yes</td><td>Spanish</td></tr><tr><td>546481</td><td>treatment</td><td>new</td><td>6.2</td><td>yes</td><td>Spanish</td></tr><tr><td>546483</td><td>treatment</td><td>new</td><td>5.86</td><td>yes</td><td>English</td></tr></tbody></table></div>"
      ]
     },
     "metadata": {
      "application/vnd.databricks.v1+output": {
       "addedWidgets": {},
       "aggData": [],
       "aggError": "",
       "aggOverflow": false,
       "aggSchema": [],
       "aggSeriesLimitReached": false,
       "aggType": "",
       "arguments": {},
       "columnCustomDisplayInfos": {},
       "data": [
        [
         546592,
         "control",
         "old",
         3.48,
         "no",
         "Spanish"
        ],
        [
         546468,
         "treatment",
         "new",
         7.13,
         "yes",
         "English"
        ],
        [
         546462,
         "treatment",
         "new",
         4.4,
         "no",
         "Spanish"
        ],
        [
         546567,
         "control",
         "old",
         3.02,
         "no",
         "French"
        ],
        [
         546459,
         "treatment",
         "new",
         4.75,
         "yes",
         "Spanish"
        ],
        [
         546558,
         "control",
         "old",
         5.28,
         "yes",
         "English"
        ],
        [
         546448,
         "treatment",
         "new",
         5.25,
         "yes",
         "French"
        ],
        [
         546581,
         "control",
         "old",
         6.53,
         "yes",
         "Spanish"
        ],
        [
         546461,
         "treatment",
         "new",
         10.71,
         "yes",
         "French"
        ],
        [
         546548,
         "control",
         "old",
         2.08,
         "no",
         "English"
        ],
        [
         546588,
         "control",
         "old",
         6.21,
         "yes",
         "Spanish"
        ],
        [
         546546,
         "control",
         "old",
         2.58,
         "yes",
         "English"
        ],
        [
         546491,
         "treatment",
         "new",
         5.86,
         "yes",
         "Spanish"
        ],
        [
         546478,
         "treatment",
         "new",
         6.03,
         "yes",
         "French"
        ],
        [
         546578,
         "control",
         "old",
         8.72,
         "yes",
         "Spanish"
        ],
        [
         546466,
         "treatment",
         "new",
         6.27,
         "yes",
         "Spanish"
        ],
        [
         546443,
         "treatment",
         "new",
         8.73,
         "no",
         "English"
        ],
        [
         546555,
         "control",
         "old",
         0.4,
         "no",
         "English"
        ],
        [
         546493,
         "control",
         "old",
         10.3,
         "yes",
         "English"
        ],
        [
         546549,
         "control",
         "old",
         3.88,
         "yes",
         "English"
        ],
        [
         546560,
         "control",
         "old",
         2.66,
         "no",
         "French"
        ],
        [
         546584,
         "control",
         "old",
         7.03,
         "yes",
         "Spanish"
        ],
        [
         546450,
         "treatment",
         "new",
         3.65,
         "no",
         "English"
        ],
        [
         546475,
         "treatment",
         "new",
         7.02,
         "yes",
         "English"
        ],
        [
         546456,
         "treatment",
         "new",
         6.18,
         "no",
         "Spanish"
        ],
        [
         546455,
         "treatment",
         "new",
         4.39,
         "no",
         "English"
        ],
        [
         546469,
         "treatment",
         "new",
         9.49,
         "yes",
         "English"
        ],
        [
         546586,
         "control",
         "old",
         4.05,
         "no",
         "Spanish"
        ],
        [
         546471,
         "treatment",
         "new",
         7.81,
         "yes",
         "French"
        ],
        [
         546575,
         "control",
         "old",
         4.28,
         "no",
         "French"
        ],
        [
         546464,
         "treatment",
         "new",
         5.41,
         "yes",
         "English"
        ],
        [
         546556,
         "control",
         "old",
         3.52,
         "yes",
         "English"
        ],
        [
         546585,
         "control",
         "old",
         5.39,
         "yes",
         "Spanish"
        ],
        [
         546577,
         "control",
         "old",
         4.52,
         "no",
         "Spanish"
        ],
        [
         546587,
         "control",
         "old",
         4.46,
         "no",
         "Spanish"
        ],
        [
         546552,
         "control",
         "old",
         8.5,
         "yes",
         "English"
        ],
        [
         546551,
         "control",
         "old",
         3.13,
         "no",
         "English"
        ],
        [
         546557,
         "control",
         "old",
         6.04,
         "yes",
         "English"
        ],
        [
         546487,
         "treatment",
         "new",
         1.65,
         "no",
         "Spanish"
        ],
        [
         546589,
         "control",
         "old",
         0.19,
         "no",
         "Spanish"
        ],
        [
         546559,
         "control",
         "old",
         8.46,
         "yes",
         "French"
        ],
        [
         546570,
         "control",
         "old",
         1.92,
         "no",
         "French"
        ],
        [
         546489,
         "treatment",
         "new",
         7.16,
         "yes",
         "Spanish"
        ],
        [
         546453,
         "treatment",
         "new",
         7.16,
         "yes",
         "English"
        ],
        [
         546488,
         "treatment",
         "new",
         3.91,
         "no",
         "English"
        ],
        [
         546565,
         "control",
         "old",
         8.02,
         "no",
         "French"
        ],
        [
         546460,
         "treatment",
         "new",
         5.37,
         "yes",
         "French"
        ],
        [
         546458,
         "treatment",
         "new",
         7.23,
         "yes",
         "Spanish"
        ],
        [
         546492,
         "treatment",
         "new",
         8.08,
         "yes",
         "Spanish"
        ],
        [
         546473,
         "treatment",
         "new",
         10.5,
         "yes",
         "English"
        ],
        [
         546554,
         "control",
         "old",
         0.22,
         "no",
         "English"
        ],
        [
         546457,
         "treatment",
         "new",
         5.65,
         "no",
         "English"
        ],
        [
         546479,
         "treatment",
         "new",
         6.47,
         "yes",
         "Spanish"
        ],
        [
         546576,
         "control",
         "old",
         4.71,
         "no",
         "Spanish"
        ],
        [
         546482,
         "treatment",
         "new",
         6.41,
         "yes",
         "Spanish"
        ],
        [
         546563,
         "control",
         "old",
         0.93,
         "no",
         "French"
        ],
        [
         546569,
         "control",
         "old",
         1.81,
         "no",
         "French"
        ],
        [
         546454,
         "treatment",
         "new",
         8.3,
         "yes",
         "French"
        ],
        [
         546562,
         "control",
         "old",
         7.4,
         "yes",
         "French"
        ],
        [
         546574,
         "control",
         "old",
         9.15,
         "no",
         "French"
        ],
        [
         546470,
         "treatment",
         "new",
         6.01,
         "yes",
         "French"
        ],
        [
         546467,
         "treatment",
         "new",
         6.79,
         "yes",
         "French"
        ],
        [
         546572,
         "control",
         "old",
         4.18,
         "no",
         "French"
        ],
        [
         546590,
         "control",
         "old",
         5.47,
         "no",
         "Spanish"
        ],
        [
         546553,
         "control",
         "old",
         5.96,
         "yes",
         "English"
        ],
        [
         546445,
         "treatment",
         "new",
         7.27,
         "yes",
         "French"
        ],
        [
         546545,
         "control",
         "old",
         6.6,
         "yes",
         "English"
        ],
        [
         546582,
         "control",
         "old",
         4.75,
         "yes",
         "Spanish"
        ],
        [
         546484,
         "treatment",
         "new",
         6.7,
         "no",
         "Spanish"
        ],
        [
         546579,
         "control",
         "old",
         2.23,
         "no",
         "Spanish"
        ],
        [
         546568,
         "control",
         "old",
         0.4,
         "no",
         "French"
        ],
        [
         546476,
         "treatment",
         "new",
         5.42,
         "yes",
         "French"
        ],
        [
         546452,
         "treatment",
         "new",
         5.08,
         "yes",
         "English"
        ],
        [
         546444,
         "treatment",
         "new",
         7.46,
         "yes",
         "English"
        ],
        [
         546591,
         "control",
         "old",
         4.87,
         "no",
         "Spanish"
        ],
        [
         546583,
         "control",
         "old",
         6.57,
         "yes",
         "Spanish"
        ],
        [
         546573,
         "control",
         "old",
         1.44,
         "no",
         "French"
        ],
        [
         546485,
         "treatment",
         "new",
         3.88,
         "no",
         "Spanish"
        ],
        [
         546486,
         "treatment",
         "new",
         9.12,
         "yes",
         "French"
        ],
        [
         546547,
         "control",
         "old",
         3.21,
         "yes",
         "English"
        ],
        [
         546490,
         "treatment",
         "new",
         4.68,
         "no",
         "French"
        ],
        [
         546449,
         "treatment",
         "new",
         5.26,
         "yes",
         "French"
        ],
        [
         546463,
         "treatment",
         "new",
         5.74,
         "yes",
         "Spanish"
        ],
        [
         546580,
         "control",
         "old",
         2.9,
         "no",
         "Spanish"
        ],
        [
         546571,
         "control",
         "old",
         4.3,
         "no",
         "French"
        ],
        [
         546564,
         "control",
         "old",
         0.91,
         "no",
         "French"
        ],
        [
         546465,
         "treatment",
         "new",
         6.71,
         "no",
         "English"
        ],
        [
         546480,
         "treatment",
         "new",
         3.68,
         "no",
         "French"
        ],
        [
         546447,
         "treatment",
         "new",
         3.3,
         "no",
         "French"
        ],
        [
         546561,
         "control",
         "old",
         6.04,
         "yes",
         "French"
        ],
        [
         546477,
         "treatment",
         "new",
         5.4,
         "no",
         "French"
        ],
        [
         546451,
         "treatment",
         "new",
         8.47,
         "yes",
         "English"
        ],
        [
         546566,
         "control",
         "old",
         8.35,
         "no",
         "French"
        ],
        [
         546474,
         "treatment",
         "new",
         4.94,
         "no",
         "French"
        ],
        [
         546550,
         "control",
         "old",
         3.05,
         "no",
         "English"
        ],
        [
         546446,
         "treatment",
         "new",
         5.15,
         "no",
         "Spanish"
        ],
        [
         546544,
         "control",
         "old",
         6.52,
         "yes",
         "English"
        ],
        [
         546472,
         "treatment",
         "new",
         7.07,
         "yes",
         "Spanish"
        ],
        [
         546481,
         "treatment",
         "new",
         6.2,
         "yes",
         "Spanish"
        ],
        [
         546483,
         "treatment",
         "new",
         5.86,
         "yes",
         "English"
        ]
       ],
       "datasetInfos": [],
       "dbfsResultPath": null,
       "isJsonSchema": true,
       "metadata": {},
       "overflow": false,
       "plotOptions": {
        "customPlotOptions": {},
        "displayType": "table",
        "pivotAggregation": null,
        "pivotColumns": null,
        "xColumns": null,
        "yColumns": null
       },
       "removedWidgets": [],
       "schema": [
        {
         "metadata": "{}",
         "name": "user_id",
         "type": "\"integer\""
        },
        {
         "metadata": "{}",
         "name": "group",
         "type": "\"string\""
        },
        {
         "metadata": "{}",
         "name": "landing_page",
         "type": "\"string\""
        },
        {
         "metadata": "{}",
         "name": "time_spent_on_the_page",
         "type": "\"double\""
        },
        {
         "metadata": "{}",
         "name": "converted",
         "type": "\"string\""
        },
        {
         "metadata": "{}",
         "name": "language_preferred",
         "type": "\"string\""
        }
       ],
       "type": "table"
      }
     },
     "output_type": "display_data"
    }
   ],
   "source": [
    "# File location and type\n",
    "file_location = \"/FileStore/tables/abtest-1.csv\"\n",
    "file_type = \"csv\"\n",
    "\n",
    "# CSV options\n",
    "infer_schema = \"true\"\n",
    "first_row_is_header = \"true\"\n",
    "delimiter = \",\"\n",
    "\n",
    "# The applied options are for CSV files. For other file types, these will be ignored.\n",
    "df = spark.read.format(file_type) \\\n",
    "  .option(\"inferSchema\", infer_schema) \\\n",
    "  .option(\"header\", first_row_is_header) \\\n",
    "  .option(\"sep\", delimiter) \\\n",
    "  .load(file_location)\n",
    "\n",
    "display(df)"
   ]
  },
  {
   "cell_type": "code",
   "execution_count": 0,
   "metadata": {
    "application/vnd.databricks.v1+cell": {
     "cellMetadata": {
      "byteLimit": 2048000,
      "rowLimit": 10000
     },
     "inputWidgets": {},
     "nuid": "bd82bb99-1479-4d5c-be10-8c36df0f1d44",
     "showTitle": false,
     "tableResultSettingsMap": {},
     "title": ""
    }
   },
   "outputs": [],
   "source": [
    "# Create a view or table\n",
    "\n",
    "temp_table_name = \"abtest-1_csv\"\n",
    "\n"
   ]
  },
  {
   "cell_type": "code",
   "execution_count": 0,
   "metadata": {
    "application/vnd.databricks.v1+cell": {
     "cellMetadata": {
      "byteLimit": 2048000,
      "rowLimit": 10000
     },
     "inputWidgets": {},
     "nuid": "7e782629-4f6d-4c8a-aa8c-26857976dbb1",
     "showTitle": false,
     "tableResultSettingsMap": {},
     "title": ""
    }
   },
   "outputs": [],
   "source": [
    "import numpy as np\n",
    "import pandas as pd\n",
    "from matplotlib import pyplot as plt\n",
    "import seaborn as sns"
   ]
  },
  {
   "cell_type": "code",
   "execution_count": 0,
   "metadata": {
    "application/vnd.databricks.v1+cell": {
     "cellMetadata": {
      "byteLimit": 2048000,
      "rowLimit": 10000
     },
     "inputWidgets": {},
     "nuid": "36f19d51-4710-4ae7-90a0-23870bbff087",
     "showTitle": false,
     "tableResultSettingsMap": {},
     "title": ""
    }
   },
   "outputs": [
    {
     "output_type": "stream",
     "name": "stdout",
     "output_type": "stream",
     "text": [
      "+-------+---------+------------+----------------------+---------+------------------+\n|user_id|    group|landing_page|time_spent_on_the_page|converted|language_preferred|\n+-------+---------+------------+----------------------+---------+------------------+\n| 546592|  control|         old|                  3.48|       no|           Spanish|\n| 546468|treatment|         new|                  7.13|      yes|           English|\n| 546462|treatment|         new|                   4.4|       no|           Spanish|\n| 546567|  control|         old|                  3.02|       no|            French|\n| 546459|treatment|         new|                  4.75|      yes|           Spanish|\n| 546558|  control|         old|                  5.28|      yes|           English|\n| 546448|treatment|         new|                  5.25|      yes|            French|\n| 546581|  control|         old|                  6.53|      yes|           Spanish|\n| 546461|treatment|         new|                 10.71|      yes|            French|\n| 546548|  control|         old|                  2.08|       no|           English|\n| 546588|  control|         old|                  6.21|      yes|           Spanish|\n| 546546|  control|         old|                  2.58|      yes|           English|\n| 546491|treatment|         new|                  5.86|      yes|           Spanish|\n| 546478|treatment|         new|                  6.03|      yes|            French|\n| 546578|  control|         old|                  8.72|      yes|           Spanish|\n| 546466|treatment|         new|                  6.27|      yes|           Spanish|\n| 546443|treatment|         new|                  8.73|       no|           English|\n| 546555|  control|         old|                   0.4|       no|           English|\n| 546493|  control|         old|                  10.3|      yes|           English|\n| 546549|  control|         old|                  3.88|      yes|           English|\n+-------+---------+------------+----------------------+---------+------------------+\nonly showing top 20 rows\n\n"
     ]
    }
   ],
   "source": [
    "df = spark.read.csv(\"/FileStore/tables/abtest-1.csv\", header=True, inferSchema=True)\n",
    "df.show()\n",
    "\n"
   ]
  },
  {
   "cell_type": "code",
   "execution_count": 0,
   "metadata": {
    "application/vnd.databricks.v1+cell": {
     "cellMetadata": {
      "byteLimit": 2048000,
      "rowLimit": 10000
     },
     "inputWidgets": {},
     "nuid": "65881092-a203-4259-b641-fe93c2198ba0",
     "showTitle": false,
     "tableResultSettingsMap": {},
     "title": ""
    }
   },
   "outputs": [
    {
     "output_type": "stream",
     "name": "stdout",
     "output_type": "stream",
     "text": [
      "Out[13]: Row(user_id=546592, group='control', landing_page='old', time_spent_on_the_page=3.48, converted='no', language_preferred='Spanish')"
     ]
    }
   ],
   "source": [
    "df.head()"
   ]
  },
  {
   "cell_type": "code",
   "execution_count": 0,
   "metadata": {
    "application/vnd.databricks.v1+cell": {
     "cellMetadata": {
      "byteLimit": 2048000,
      "rowLimit": 10000
     },
     "inputWidgets": {},
     "nuid": "374f8c6c-41aa-4873-9ffd-3f38f02709d7",
     "showTitle": false,
     "tableResultSettingsMap": {},
     "title": ""
    }
   },
   "outputs": [
    {
     "output_type": "stream",
     "name": "stdout",
     "output_type": "stream",
     "text": [
      "    user_id      group landing_page  time_spent_on_the_page converted  \\\n95   546446  treatment          new                    5.15        no   \n96   546544    control          old                    6.52       yes   \n97   546472  treatment          new                    7.07       yes   \n98   546481  treatment          new                    6.20       yes   \n99   546483  treatment          new                    5.86       yes   \n\n   language_preferred  \n95            Spanish  \n96            English  \n97            Spanish  \n98            Spanish  \n99            English  \n"
     ]
    }
   ],
   "source": [
    "df_spark = spark.read.csv(\"/FileStore/tables/abtest-1.csv\", header=True, inferSchema=True)\n",
    "df = df_spark.toPandas()  # Convert Spark DataFrame to Pandas\n",
    "print(df.tail())\n"
   ]
  },
  {
   "cell_type": "code",
   "execution_count": 0,
   "metadata": {
    "application/vnd.databricks.v1+cell": {
     "cellMetadata": {
      "byteLimit": 2048000,
      "rowLimit": 10000
     },
     "inputWidgets": {},
     "nuid": "87f14870-ec5f-41e0-a82f-16862bcdb194",
     "showTitle": false,
     "tableResultSettingsMap": {},
     "title": ""
    }
   },
   "outputs": [
    {
     "output_type": "stream",
     "name": "stdout",
     "output_type": "stream",
     "text": [
      "Out[19]: (100, 6)"
     ]
    }
   ],
   "source": [
    "df.shape"
   ]
  },
  {
   "cell_type": "code",
   "execution_count": 0,
   "metadata": {
    "application/vnd.databricks.v1+cell": {
     "cellMetadata": {
      "byteLimit": 2048000,
      "rowLimit": 10000
     },
     "inputWidgets": {},
     "nuid": "0554b9e3-2085-4b57-b9f1-dc522e112339",
     "showTitle": false,
     "tableResultSettingsMap": {},
     "title": ""
    }
   },
   "outputs": [
    {
     "output_type": "display_data",
     "data": {
      "text/html": [
       "<div>\n",
       "<style scoped>\n",
       "    .dataframe tbody tr th:only-of-type {\n",
       "        vertical-align: middle;\n",
       "    }\n",
       "\n",
       "    .dataframe tbody tr th {\n",
       "        vertical-align: top;\n",
       "    }\n",
       "\n",
       "    .dataframe thead th {\n",
       "        text-align: right;\n",
       "    }\n",
       "</style>\n",
       "<table border=\"1\" class=\"dataframe\">\n",
       "  <thead>\n",
       "    <tr style=\"text-align: right;\">\n",
       "      <th></th>\n",
       "      <th>user_id</th>\n",
       "      <th>time_spent_on_the_page</th>\n",
       "    </tr>\n",
       "  </thead>\n",
       "  <tbody>\n",
       "    <tr>\n",
       "      <th>count</th>\n",
       "      <td>100.000000</td>\n",
       "      <td>100.000000</td>\n",
       "    </tr>\n",
       "    <tr>\n",
       "      <th>mean</th>\n",
       "      <td>546517.000000</td>\n",
       "      <td>5.377800</td>\n",
       "    </tr>\n",
       "    <tr>\n",
       "      <th>std</th>\n",
       "      <td>52.295779</td>\n",
       "      <td>2.378166</td>\n",
       "    </tr>\n",
       "    <tr>\n",
       "      <th>min</th>\n",
       "      <td>546443.000000</td>\n",
       "      <td>0.190000</td>\n",
       "    </tr>\n",
       "    <tr>\n",
       "      <th>25%</th>\n",
       "      <td>546467.750000</td>\n",
       "      <td>3.880000</td>\n",
       "    </tr>\n",
       "    <tr>\n",
       "      <th>50%</th>\n",
       "      <td>546492.500000</td>\n",
       "      <td>5.415000</td>\n",
       "    </tr>\n",
       "    <tr>\n",
       "      <th>75%</th>\n",
       "      <td>546567.250000</td>\n",
       "      <td>7.022500</td>\n",
       "    </tr>\n",
       "    <tr>\n",
       "      <th>max</th>\n",
       "      <td>546592.000000</td>\n",
       "      <td>10.710000</td>\n",
       "    </tr>\n",
       "  </tbody>\n",
       "</table>\n",
       "</div>"
      ]
     },
     "metadata": {
      "application/vnd.databricks.v1+output": {
       "addedWidgets": {},
       "arguments": {},
       "data": "<div>\n<style scoped>\n    .dataframe tbody tr th:only-of-type {\n        vertical-align: middle;\n    }\n\n    .dataframe tbody tr th {\n        vertical-align: top;\n    }\n\n    .dataframe thead th {\n        text-align: right;\n    }\n</style>\n<table border=\"1\" class=\"dataframe\">\n  <thead>\n    <tr style=\"text-align: right;\">\n      <th></th>\n      <th>user_id</th>\n      <th>time_spent_on_the_page</th>\n    </tr>\n  </thead>\n  <tbody>\n    <tr>\n      <th>count</th>\n      <td>100.000000</td>\n      <td>100.000000</td>\n    </tr>\n    <tr>\n      <th>mean</th>\n      <td>546517.000000</td>\n      <td>5.377800</td>\n    </tr>\n    <tr>\n      <th>std</th>\n      <td>52.295779</td>\n      <td>2.378166</td>\n    </tr>\n    <tr>\n      <th>min</th>\n      <td>546443.000000</td>\n      <td>0.190000</td>\n    </tr>\n    <tr>\n      <th>25%</th>\n      <td>546467.750000</td>\n      <td>3.880000</td>\n    </tr>\n    <tr>\n      <th>50%</th>\n      <td>546492.500000</td>\n      <td>5.415000</td>\n    </tr>\n    <tr>\n      <th>75%</th>\n      <td>546567.250000</td>\n      <td>7.022500</td>\n    </tr>\n    <tr>\n      <th>max</th>\n      <td>546592.000000</td>\n      <td>10.710000</td>\n    </tr>\n  </tbody>\n</table>\n</div>",
       "datasetInfos": [],
       "metadata": {},
       "removedWidgets": [],
       "textData": null,
       "type": "htmlSandbox"
      }
     },
     "output_type": "display_data"
    }
   ],
   "source": [
    "df.describe()"
   ]
  },
  {
   "cell_type": "code",
   "execution_count": 0,
   "metadata": {
    "application/vnd.databricks.v1+cell": {
     "cellMetadata": {
      "byteLimit": 2048000,
      "rowLimit": 10000
     },
     "inputWidgets": {},
     "nuid": "de9675a9-e34a-4140-b4c4-52503da431a4",
     "showTitle": false,
     "tableResultSettingsMap": {},
     "title": ""
    }
   },
   "outputs": [
    {
     "output_type": "stream",
     "name": "stdout",
     "output_type": "stream",
     "text": [
      "Out[21]: user_id                   0\ngroup                     0\nlanding_page              0\ntime_spent_on_the_page    0\nconverted                 0\nlanguage_preferred        0\ndtype: int64"
     ]
    }
   ],
   "source": [
    "df.isnull().sum()"
   ]
  },
  {
   "cell_type": "code",
   "execution_count": 0,
   "metadata": {
    "application/vnd.databricks.v1+cell": {
     "cellMetadata": {
      "byteLimit": 2048000,
      "rowLimit": 10000
     },
     "inputWidgets": {},
     "nuid": "654c467e-227b-4f6b-9622-41ac5e951909",
     "showTitle": false,
     "tableResultSettingsMap": {},
     "title": ""
    }
   },
   "outputs": [
    {
     "output_type": "stream",
     "name": "stdout",
     "output_type": "stream",
     "text": [
      "No duplicates found.\n"
     ]
    }
   ],
   "source": [
    "duplicate_rows = df[df.duplicated()]\n",
    "\n",
    "if duplicate_rows.empty:\n",
    "    print(\"No duplicates found.\")\n",
    "else:\n",
    "    print(\"Duplicate rows:\")\n",
    "    print(duplicate_rows)"
   ]
  },
  {
   "cell_type": "code",
   "execution_count": 0,
   "metadata": {
    "application/vnd.databricks.v1+cell": {
     "cellMetadata": {
      "byteLimit": 2048000,
      "rowLimit": 10000
     },
     "inputWidgets": {},
     "nuid": "777903e8-e4f4-4ac2-99ac-4a2d5e373d61",
     "showTitle": false,
     "tableResultSettingsMap": {},
     "title": ""
    }
   },
   "outputs": [
    {
     "output_type": "stream",
     "name": "stdout",
     "output_type": "stream",
     "text": [
      "treatment    50\ncontrol      50\nName: group, dtype: int64\nyes    54\nno     46\nName: converted, dtype: int64\nFrench     34\nSpanish    34\nEnglish    32\nName: language_preferred, dtype: int64\n"
     ]
    }
   ],
   "source": [
    "categorical_columns = ['group', 'converted', 'language_preferred']\n",
    "for column in categorical_columns:\n",
    "    freq_dist = df[column].value_counts()\n",
    "    print(freq_dist)"
   ]
  },
  {
   "cell_type": "code",
   "execution_count": 0,
   "metadata": {
    "application/vnd.databricks.v1+cell": {
     "cellMetadata": {
      "byteLimit": 2048000,
      "rowLimit": 10000
     },
     "inputWidgets": {},
     "nuid": "83b3d0bc-5fb9-4b6d-8476-f5a9f67ea28a",
     "showTitle": false,
     "tableResultSettingsMap": {},
     "title": ""
    }
   },
   "outputs": [
    {
     "output_type": "display_data",
     "data": {
      "image/png": "[encoded data removed]"
     },
     "metadata": {
      "application/vnd.databricks.v1+output": {
       "addedWidgets": {},
       "arguments": {},
       "data": "data:image/png;base64,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\n",
       "datasetInfos": [],
       "metadata": {},
       "removedWidgets": [],
       "type": "image"
      }
     },
     "output_type": "display_data"
    }
   ],
   "source": [
    "numerical_columns = ['time_spent_on_the_page']\n",
    "for column in numerical_columns:\n",
    "    plt.hist(df[column], bins=10)\n",
    "    plt.xlabel(column)\n",
    "    plt.ylabel('Frequency')\n",
    "    plt.title(f'Histogram of {column}')\n",
    "    plt.show()"
   ]
  },
  {
   "cell_type": "code",
   "execution_count": 0,
   "metadata": {
    "application/vnd.databricks.v1+cell": {
     "cellMetadata": {
      "byteLimit": 2048000,
      "rowLimit": 10000
     },
     "inputWidgets": {},
     "nuid": "2b12cb70-d63a-4e3f-94e2-0ade3fdf20e7",
     "showTitle": false,
     "tableResultSettingsMap": {},
     "title": ""
    }
   },
   "outputs": [
    {
     "output_type": "display_data",
     "data": {
      "image/png": "[encoded data removed]"
     },
     "metadata": {
      "application/vnd.databricks.v1+output": {
       "addedWidgets": {},
       "arguments": {},
       "data": "data:image/png;base64,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\n",
       "datasetInfos": [],
       "metadata": {},
       "removedWidgets": [],
       "type": "image"
      }
     },
     "output_type": "display_data"
    },
    {
     "output_type": "display_data",
     "data": {
      "image/png": "[encoded data removed]"
     },
     "metadata": {
      "application/vnd.databricks.v1+output": {
       "addedWidgets": {},
       "arguments": {},
       "data": "data:image/png;base64,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\n",
       "datasetInfos": [],
       "metadata": {},
       "removedWidgets": [],
       "type": "image"
      }
     },
     "output_type": "display_data"
    },
    {
     "output_type": "display_data",
     "data": {
      "image/png": "[encoded data removed]"
     },
     "metadata": {
      "application/vnd.databricks.v1+output": {
       "addedWidgets": {},
       "arguments": {},
       "data": "data:image/png;base64,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\n",
       "datasetInfos": [],
       "metadata": {},
       "removedWidgets": [],
       "type": "image"
      }
     },
     "output_type": "display_data"
    }
   ],
   "source": [
    "for column in categorical_columns:\n",
    "    plt.bar(df[column].value_counts().index, df[column].value_counts())\n",
    "    plt.xlabel(column)\n",
    "    plt.ylabel('Count')\n",
    "    plt.title(f'Bar Plot of {column}')\n",
    "    plt.show()"
   ]
  },
  {
   "cell_type": "code",
   "execution_count": 0,
   "metadata": {
    "application/vnd.databricks.v1+cell": {
     "cellMetadata": {
      "byteLimit": 2048000,
      "rowLimit": 10000
     },
     "inputWidgets": {},
     "nuid": "def2a404-3cc8-4a38-922f-366ea06fdcbf",
     "showTitle": false,
     "tableResultSettingsMap": {},
     "title": ""
    }
   },
   "outputs": [
    {
     "output_type": "display_data",
     "data": {
      "image/png": "[encoded data removed]"
     },
     "metadata": {
      "application/vnd.databricks.v1+output": {
       "addedWidgets": {},
       "arguments": {},
       "data": "data:image/png;base64,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\n",
       "datasetInfos": [],
       "metadata": {},
       "removedWidgets": [],
       "type": "image"
      }
     },
     "output_type": "display_data"
    }
   ],
   "source": [
    "for column in numerical_columns:\n",
    "    plt.boxplot(df[column])\n",
    "    plt.xlabel(column)\n",
    "    plt.title(f'Box Plot of {column}')\n",
    "    plt.show()"
   ]
  },
  {
   "cell_type": "code",
   "execution_count": 0,
   "metadata": {
    "application/vnd.databricks.v1+cell": {
     "cellMetadata": {
      "byteLimit": 2048000,
      "rowLimit": 10000
     },
     "inputWidgets": {},
     "nuid": "2313eba5-d4bd-403f-994a-49045941e02e",
     "showTitle": false,
     "tableResultSettingsMap": {},
     "title": ""
    }
   },
   "outputs": [
    {
     "output_type": "display_data",
     "data": {
      "image/png": "[encoded data removed]"
     },
     "metadata": {
      "application/vnd.databricks.v1+output": {
       "addedWidgets": {},
       "arguments": {},
       "data": "data:image/png;base64,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\n",
       "datasetInfos": [],
       "metadata": {},
       "removedWidgets": [],
       "type": "image"
      }
     },
     "output_type": "display_data"
    }
   ],
   "source": [
    "sns.boxplot(x='landing_page', y='time_spent_on_the_page', data=df)\n",
    "plt.xlabel('Landing Page')\n",
    "plt.ylabel('Time Spent on the Page')\n",
    "plt.title('Bivariate Analysis: Landing Page vs Time Spent on the Page')\n",
    "plt.show()"
   ]
  },
  {
   "cell_type": "code",
   "execution_count": 0,
   "metadata": {
    "application/vnd.databricks.v1+cell": {
     "cellMetadata": {
      "byteLimit": 2048000,
      "rowLimit": 10000
     },
     "inputWidgets": {},
     "nuid": "51c07cd7-6d4c-478f-aa62-44adb9503bb9",
     "showTitle": false,
     "tableResultSettingsMap": {},
     "title": ""
    }
   },
   "outputs": [
    {
     "output_type": "stream",
     "name": "stdout",
     "output_type": "stream",
     "text": [
      "Landing Page: old\nAverage Time Spent: 4.53\nMedian Time Spent: 4.38\n\nLanding Page: new\nAverage Time Spent: 6.22\nMedian Time Spent: 6.11\n\n"
     ]
    }
   ],
   "source": [
    "landing_pages = df['landing_page'].unique()\n",
    "for landing_page in landing_pages:\n",
    "    subset = df[df['landing_page'] == landing_page]\n",
    "    avg_time_spent = subset['time_spent_on_the_page'].mean()\n",
    "    median_time_spent = subset['time_spent_on_the_page'].median()\n",
    "    print(f\"Landing Page: {landing_page}\")\n",
    "    print(f\"Average Time Spent: {avg_time_spent:.2f}\")\n",
    "    print(f\"Median Time Spent: {median_time_spent:.2f}\")\n",
    "    print()"
   ]
  },
  {
   "cell_type": "code",
   "execution_count": 0,
   "metadata": {
    "application/vnd.databricks.v1+cell": {
     "cellMetadata": {
      "byteLimit": 2048000,
      "rowLimit": 10000
     },
     "inputWidgets": {},
     "nuid": "da2e905b-fe1d-4a9c-91f9-8ed4d23d622a",
     "showTitle": false,
     "tableResultSettingsMap": {},
     "title": ""
    }
   },
   "outputs": [
    {
     "output_type": "display_data",
     "data": {
      "image/png": "[encoded data removed]"
     },
     "metadata": {
      "application/vnd.databricks.v1+output": {
       "addedWidgets": {},
       "arguments": {},
       "data": "data:image/png;base64,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\n",
       "datasetInfos": [],
       "metadata": {},
       "removedWidgets": [],
       "type": "image"
      }
     },
     "output_type": "display_data"
    }
   ],
   "source": [
    "sns.boxplot(x='converted', y='time_spent_on_the_page', data=df)\n",
    "plt.xlabel('Conversion Status')\n",
    "plt.ylabel('Time Spent on the Page')\n",
    "plt.title('Bivariate Analysis: Conversion Status vs Time Spent on the Page')\n",
    "plt.show()"
   ]
  },
  {
   "cell_type": "code",
   "execution_count": 0,
   "metadata": {
    "application/vnd.databricks.v1+cell": {
     "cellMetadata": {
      "byteLimit": 2048000,
      "rowLimit": 10000
     },
     "inputWidgets": {},
     "nuid": "c2a41667-42fe-4f67-9400-6a1a2c87ed22",
     "showTitle": false,
     "tableResultSettingsMap": {},
     "title": ""
    }
   },
   "outputs": [
    {
     "output_type": "stream",
     "name": "stdout",
     "output_type": "stream",
     "text": [
      "Conversion Status: no\nAverage Time Spent: 3.92\nMedian Time Spent: 3.98\n\nConversion Status: yes\nAverage Time Spent: 6.62\nMedian Time Spent: 6.49\n\n"
     ]
    }
   ],
   "source": [
    "conversion_status = df['converted'].unique()\n",
    "for status in conversion_status:\n",
    "    subset = df[df['converted'] == status]\n",
    "    avg_time_spent = subset['time_spent_on_the_page'].mean()\n",
    "    median_time_spent = subset['time_spent_on_the_page'].median()\n",
    "    print(f\"Conversion Status: {status}\")\n",
    "    print(f\"Average Time Spent: {avg_time_spent:.2f}\")\n",
    "    print(f\"Median Time Spent: {median_time_spent:.2f}\")\n",
    "    print()"
   ]
  },
  {
   "cell_type": "code",
   "execution_count": 0,
   "metadata": {
    "application/vnd.databricks.v1+cell": {
     "cellMetadata": {
      "byteLimit": 2048000,
      "rowLimit": 10000
     },
     "inputWidgets": {},
     "nuid": "716b7360-39b9-423b-978a-769fc50f0740",
     "showTitle": false,
     "tableResultSettingsMap": {},
     "title": ""
    }
   },
   "outputs": [
    {
     "output_type": "display_data",
     "data": {
      "image/png": "[encoded data removed]"
     },
     "metadata": {
      "application/vnd.databricks.v1+output": {
       "addedWidgets": {},
       "arguments": {},
       "data": "data:image/png;base64,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\n",
       "datasetInfos": [],
       "metadata": {},
       "removedWidgets": [],
       "type": "image"
      }
     },
     "output_type": "display_data"
    }
   ],
   "source": [
    "sns.boxplot(x='language_preferred', y='time_spent_on_the_page', data=df)\n",
    "plt.xlabel('Language Preferred')\n",
    "plt.ylabel('Time Spent on the Page')\n",
    "plt.title('Bivariate Analysis: Language Preferred vs Time Spent on the Page')\n",
    "plt.show()"
   ]
  },
  {
   "cell_type": "code",
   "execution_count": 0,
   "metadata": {
    "application/vnd.databricks.v1+cell": {
     "cellMetadata": {
      "byteLimit": 2048000,
      "rowLimit": 10000
     },
     "inputWidgets": {},
     "nuid": "9caafd80-f637-45d7-a35f-3cadee032c8b",
     "showTitle": false,
     "tableResultSettingsMap": {},
     "title": ""
    }
   },
   "outputs": [
    {
     "output_type": "stream",
     "name": "stdout",
     "output_type": "stream",
     "text": [
      "Language Preferred: Spanish\nAverage Time Spent: 5.33\nMedian Time Spent: 5.61\n\nLanguage Preferred: English\nAverage Time Spent: 5.56\nMedian Time Spent: 5.76\n\nLanguage Preferred: French\nAverage Time Spent: 5.25\nMedian Time Spent: 5.31\n\n"
     ]
    }
   ],
   "source": [
    "language_preferences = df['language_preferred'].unique()\n",
    "for preference in language_preferences:\n",
    "    subset = df[df['language_preferred'] == preference]\n",
    "    avg_time_spent = subset['time_spent_on_the_page'].mean()\n",
    "    median_time_spent = subset['time_spent_on_the_page'].median()\n",
    "    print(f\"Language Preferred: {preference}\")\n",
    "    print(f\"Average Time Spent: {avg_time_spent:.2f}\")\n",
    "    print(f\"Median Time Spent: {median_time_spent:.2f}\")\n",
    "    print()"
   ]
  },
  {
   "cell_type": "code",
   "execution_count": 0,
   "metadata": {
    "application/vnd.databricks.v1+cell": {
     "cellMetadata": {
      "byteLimit": 2048000,
      "rowLimit": 10000
     },
     "inputWidgets": {},
     "nuid": "24b6b80d-ac90-4a34-bb54-dc513d01cea8",
     "showTitle": false,
     "tableResultSettingsMap": {},
     "title": ""
    }
   },
   "outputs": [
    {
     "output_type": "display_data",
     "data": {
      "image/png": "[encoded data removed]"
     },
     "metadata": {
      "application/vnd.databricks.v1+output": {
       "addedWidgets": {},
       "arguments": {},
       "data": "data:image/png;base64,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\n",
       "datasetInfos": [],
       "metadata": {},
       "removedWidgets": [],
       "type": "image"
      }
     },
     "output_type": "display_data"
    }
   ],
   "source": [
    "sns.boxplot(x='landing_page', y='time_spent_on_the_page', data=df)\n",
    "plt.xlabel('Landing Page')\n",
    "plt.ylabel('Time Spent on the Page')\n",
    "plt.title('Bivariate Analysis: Landing Page vs Time Spent on the Page')\n",
    "plt.show()"
   ]
  },
  {
   "cell_type": "code",
   "execution_count": 0,
   "metadata": {
    "application/vnd.databricks.v1+cell": {
     "cellMetadata": {
      "byteLimit": 2048000,
      "rowLimit": 10000
     },
     "inputWidgets": {},
     "nuid": "d3986a11-8fd5-496b-8f14-120314fbd74d",
     "showTitle": false,
     "tableResultSettingsMap": {},
     "title": ""
    }
   },
   "outputs": [],
   "source": [
    "\n",
    "time_spent_new = df[df['landing_page'] == 'new']['time_spent_on_the_page']\n",
    "time_spent_old = df[df['landing_page'] == 'old']['time_spent_on_the_page']"
   ]
  },
  {
   "cell_type": "code",
   "execution_count": 0,
   "metadata": {
    "application/vnd.databricks.v1+cell": {
     "cellMetadata": {
      "byteLimit": 2048000,
      "rowLimit": 10000
     },
     "inputWidgets": {},
     "nuid": "7c092249-c7f6-4076-9db6-625683954e5b",
     "showTitle": false,
     "tableResultSettingsMap": {},
     "title": ""
    }
   },
   "outputs": [
    {
     "output_type": "stream",
     "name": "stdout",
     "output_type": "stream",
     "text": [
      "The sample standard deviation of the time spent on the new page is: 1.82\nThe sample standard deviation of the time spent on the old page is: 2.58\n"
     ]
    }
   ],
   "source": [
    "print('The sample standard deviation of the time spent on the new page is:', round(time_spent_new.std(),2))\n",
    "print('The sample standard deviation of the time spent on the old page is:', round(time_spent_old.std(),2))"
   ]
  },
  {
   "cell_type": "code",
   "execution_count": 0,
   "metadata": {
    "application/vnd.databricks.v1+cell": {
     "cellMetadata": {
      "byteLimit": 2048000,
      "rowLimit": 10000
     },
     "inputWidgets": {},
     "nuid": "848aafef-4aa9-4f28-88f3-ea1df15c5c06",
     "showTitle": false,
     "tableResultSettingsMap": {},
     "title": ""
    }
   },
   "outputs": [
    {
     "output_type": "stream",
     "name": "stdout",
     "output_type": "stream",
     "text": [
      "The population standard deviations are not assumed to be equal.\n"
     ]
    }
   ],
   "source": [
    "from scipy.stats import levene\n",
    "\n",
    "# Perform Levene's test for equal variances\n",
    "statistic, p_value = levene(time_spent_new, time_spent_old)\n",
    "\n",
    "# Set the significance level\n",
    "alpha = 0.05\n",
    "\n",
    "# Compare the p-value to the significance level\n",
    "if p_value > alpha:\n",
    "    print(\"The population standard deviations can be assumed to be equal.\")\n",
    "else:\n",
    "    print(\"The population standard deviations are not assumed to be equal.\")"
   ]
  },
  {
   "cell_type": "code",
   "execution_count": 0,
   "metadata": {
    "application/vnd.databricks.v1+cell": {
     "cellMetadata": {
      "byteLimit": 2048000,
      "rowLimit": 10000
     },
     "inputWidgets": {},
     "nuid": "b62a2ebb-ee60-453a-af98-7f7c8bd744b6",
     "showTitle": false,
     "tableResultSettingsMap": {},
     "title": ""
    }
   },
   "outputs": [
    {
     "output_type": "stream",
     "name": "stdout",
     "output_type": "stream",
     "text": [
      "The p-value is 0.0001392381225166549\n"
     ]
    }
   ],
   "source": [
    "from scipy.stats import ttest_ind\n",
    "\n",
    "time_spent_new = df[df['landing_page'] == 'new']['time_spent_on_the_page']\n",
    "time_spent_old = df[df['landing_page'] == 'old']['time_spent_on_the_page']\n",
    "\n",
    "# Perform independent samples t-test\n",
    "test_stat, p_value = ttest_ind(time_spent_new, time_spent_old, equal_var=False, alternative='greater')\n",
    "\n",
    "print('The p-value is', p_value)"
   ]
  },
  {
   "cell_type": "code",
   "execution_count": 0,
   "metadata": {
    "application/vnd.databricks.v1+cell": {
     "cellMetadata": {
      "byteLimit": 2048000,
      "rowLimit": 10000
     },
     "inputWidgets": {},
     "nuid": "0405110a-8084-4998-95fa-d61058095c42",
     "showTitle": false,
     "tableResultSettingsMap": {},
     "title": ""
    }
   },
   "outputs": [
    {
     "output_type": "stream",
     "name": "stdout",
     "output_type": "stream",
     "text": [
      "As the p-value 0.0001392381225166549 is less than the level of significance, we reject the null hypothesis.\n"
     ]
    }
   ],
   "source": [
    "if p_value < 0.05:\n",
    "    print(f'As the p-value {p_value} is less than the level of significance, we reject the null hypothesis.')\n",
    "else:\n",
    "    print(f'As the p-value {p_value} is greater than the level of significance, we fail to reject the null hypothesis.')"
   ]
  },
  {
   "cell_type": "code",
   "execution_count": 0,
   "metadata": {
    "application/vnd.databricks.v1+cell": {
     "cellMetadata": {
      "byteLimit": 2048000,
      "rowLimit": 10000
     },
     "inputWidgets": {},
     "nuid": "bacaa8ec-71ae-4ef6-a414-e1aa249eba2e",
     "showTitle": false,
     "tableResultSettingsMap": {},
     "title": ""
    }
   },
   "outputs": [
    {
     "output_type": "display_data",
     "data": {
      "image/png": "[encoded data removed]"
     },
     "metadata": {
      "application/vnd.databricks.v1+output": {
       "addedWidgets": {},
       "arguments": {},
       "data": "data:image/png;base64,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\n",
       "datasetInfos": [],
       "metadata": {},
       "removedWidgets": [],
       "type": "image"
      }
     },
     "output_type": "display_data"
    }
   ],
   "source": [
    "pd.crosstab(df['landing_page'], df['converted'],normalize='index').plot(kind=\"bar\", figsize=(6,8),stacked=True)\n",
    "plt.legend()\n",
    "plt.show()"
   ]
  },
  {
   "cell_type": "code",
   "execution_count": 0,
   "metadata": {
    "application/vnd.databricks.v1+cell": {
     "cellMetadata": {
      "byteLimit": 2048000,
      "rowLimit": 10000
     },
     "inputWidgets": {},
     "nuid": "e175e001-0501-4597-86ce-b5ce19cc3e57",
     "showTitle": false,
     "tableResultSettingsMap": {},
     "title": ""
    }
   },
   "outputs": [
    {
     "output_type": "stream",
     "name": "stdout",
     "output_type": "stream",
     "text": [
      "The numbers of users served the new and old pages are 50 and 50 respectively\n"
     ]
    }
   ],
   "source": [
    "# Calculate the number of converted users in the treatment group\n",
    "new_converted = df[df['group'] == 'treatment']['converted'].value_counts()['yes']\n",
    "# Calculate the number of converted users in the control group\n",
    "old_converted = df[df['group'] == 'control']['converted'].value_counts()['yes']\n",
    "\n",
    "n_control = df.group.value_counts()['control'] # total number of users in the control group\n",
    "n_treatment = df.group.value_counts()['treatment'] # total number of users in the treatment group\n",
    "\n",
    "print('The numbers of users served the new and old pages are {0} and {1} respectively'.format(n_control, n_treatment ))"
   ]
  },
  {
   "cell_type": "code",
   "execution_count": 0,
   "metadata": {
    "application/vnd.databricks.v1+cell": {
     "cellMetadata": {
      "byteLimit": 2048000,
      "rowLimit": 10000
     },
     "inputWidgets": {},
     "nuid": "e1df7e75-1088-45a9-8e16-780ed8fa8d53",
     "showTitle": false,
     "tableResultSettingsMap": {},
     "title": ""
    }
   },
   "outputs": [
    {
     "output_type": "stream",
     "name": "stdout",
     "output_type": "stream",
     "text": [
      "The p-value is 0.008026308204056278\n"
     ]
    }
   ],
   "source": [
    "from statsmodels.stats.proportion import proportions_ztest\n",
    "\n",
    "# Perform the two-sample Z-test for proportions\n",
    "test_stat, p_value = proportions_ztest([new_converted, old_converted], [n_treatment, n_control], alternative='larger')\n",
    "\n",
    "print('The p-value is', p_value)"
   ]
  },
  {
   "cell_type": "code",
   "execution_count": 0,
   "metadata": {
    "application/vnd.databricks.v1+cell": {
     "cellMetadata": {
      "byteLimit": 2048000,
      "rowLimit": 10000
     },
     "inputWidgets": {},
     "nuid": "db4cfb11-aad0-455c-8ea7-a5ab9a801ffe",
     "showTitle": false,
     "tableResultSettingsMap": {},
     "title": ""
    }
   },
   "outputs": [
    {
     "output_type": "stream",
     "name": "stdout",
     "output_type": "stream",
     "text": [
      "As the p-value 0.008026308204056278 is less than the level of significance, we reject the null hypothesis.\n"
     ]
    }
   ],
   "source": [
    "if p_value < 0.05:\n",
    "    print(f'As the p-value {p_value} is less than the level of significance, we reject the null hypothesis.')\n",
    "else:\n",
    "    print(f'As the p-value {p_value} is greater than the level of significance, we fail to reject the null hypothesis.')"
   ]
  },
  {
   "cell_type": "code",
   "execution_count": 0,
   "metadata": {
    "application/vnd.databricks.v1+cell": {
     "cellMetadata": {
      "byteLimit": 2048000,
      "rowLimit": 10000
     },
     "inputWidgets": {},
     "nuid": "ca7187f4-dbf3-4e80-ad2f-56e3ffeb9e76",
     "showTitle": false,
     "tableResultSettingsMap": {},
     "title": ""
    }
   },
   "outputs": [
    {
     "output_type": "display_data",
     "data": {
      "image/png": "[encoded data removed]"
     },
     "metadata": {
      "application/vnd.databricks.v1+output": {
       "addedWidgets": {},
       "arguments": {},
       "data": "data:image/png;base64,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\n",
       "datasetInfos": [],
       "metadata": {},
       "removedWidgets": [],
       "type": "image"
      }
     },
     "output_type": "display_data"
    }
   ],
   "source": [
    "conversion_language_crosstab = pd.crosstab(df['converted'], df['language_preferred'], normalize='index')\n",
    "\n",
    "# Plot the stacked bar chart\n",
    "conversion_language_crosstab.plot(kind='bar', figsize=(6, 8), stacked=True)\n",
    "plt.xlabel('Conversion Status')\n",
    "plt.ylabel('Proportion')\n",
    "plt.title('Dependency between Conversion Status and Preferred Language')\n",
    "plt.legend()\n",
    "plt.show()"
   ]
  },
  {
   "cell_type": "code",
   "execution_count": 0,
   "metadata": {
    "application/vnd.databricks.v1+cell": {
     "cellMetadata": {
      "byteLimit": 2048000,
      "rowLimit": 10000
     },
     "inputWidgets": {},
     "nuid": "818857db-063e-4eaa-8c71-b5435e37c8f7",
     "showTitle": false,
     "tableResultSettingsMap": {},
     "title": ""
    }
   },
   "outputs": [
    {
     "output_type": "display_data",
     "data": {
      "text/html": [
       "<div>\n",
       "<style scoped>\n",
       "    .dataframe tbody tr th:only-of-type {\n",
       "        vertical-align: middle;\n",
       "    }\n",
       "\n",
       "    .dataframe tbody tr th {\n",
       "        vertical-align: top;\n",
       "    }\n",
       "\n",
       "    .dataframe thead th {\n",
       "        text-align: right;\n",
       "    }\n",
       "</style>\n",
       "<table border=\"1\" class=\"dataframe\">\n",
       "  <thead>\n",
       "    <tr style=\"text-align: right;\">\n",
       "      <th>language_preferred</th>\n",
       "      <th>English</th>\n",
       "      <th>French</th>\n",
       "      <th>Spanish</th>\n",
       "    </tr>\n",
       "    <tr>\n",
       "      <th>converted</th>\n",
       "      <th></th>\n",
       "      <th></th>\n",
       "      <th></th>\n",
       "    </tr>\n",
       "  </thead>\n",
       "  <tbody>\n",
       "    <tr>\n",
       "      <th>no</th>\n",
       "      <td>11</td>\n",
       "      <td>19</td>\n",
       "      <td>16</td>\n",
       "    </tr>\n",
       "    <tr>\n",
       "      <th>yes</th>\n",
       "      <td>21</td>\n",
       "      <td>15</td>\n",
       "      <td>18</td>\n",
       "    </tr>\n",
       "  </tbody>\n",
       "</table>\n",
       "</div>"
      ]
     },
     "metadata": {
      "application/vnd.databricks.v1+output": {
       "addedWidgets": {},
       "arguments": {},
       "data": "<div>\n<style scoped>\n    .dataframe tbody tr th:only-of-type {\n        vertical-align: middle;\n    }\n\n    .dataframe tbody tr th {\n        vertical-align: top;\n    }\n\n    .dataframe thead th {\n        text-align: right;\n    }\n</style>\n<table border=\"1\" class=\"dataframe\">\n  <thead>\n    <tr style=\"text-align: right;\">\n      <th>language_preferred</th>\n      <th>English</th>\n      <th>French</th>\n      <th>Spanish</th>\n    </tr>\n    <tr>\n      <th>converted</th>\n      <th></th>\n      <th></th>\n      <th></th>\n    </tr>\n  </thead>\n  <tbody>\n    <tr>\n      <th>no</th>\n      <td>11</td>\n      <td>19</td>\n      <td>16</td>\n    </tr>\n    <tr>\n      <th>yes</th>\n      <td>21</td>\n      <td>15</td>\n      <td>18</td>\n    </tr>\n  </tbody>\n</table>\n</div>",
       "datasetInfos": [],
       "metadata": {},
       "removedWidgets": [],
       "textData": null,
       "type": "htmlSandbox"
      }
     },
     "output_type": "display_data"
    }
   ],
   "source": [
    "contingency_table = pd.crosstab(df['converted'], df['language_preferred'])\n",
    "contingency_table"
   ]
  },
  {
   "cell_type": "code",
   "execution_count": 0,
   "metadata": {
    "application/vnd.databricks.v1+cell": {
     "cellMetadata": {
      "byteLimit": 2048000,
      "rowLimit": 10000
     },
     "inputWidgets": {},
     "nuid": "b72e15e2-9aeb-4eaf-b6b3-d42a08b0d064",
     "showTitle": false,
     "tableResultSettingsMap": {},
     "title": ""
    }
   },
   "outputs": [
    {
     "output_type": "stream",
     "name": "stdout",
     "output_type": "stream",
     "text": [
      "The p-value is 0.21298887487543447\n"
     ]
    }
   ],
   "source": [
    "from scipy.stats import chi2_contingency\n",
    "\n",
    "chi2, p_value, dof, exp_freq = chi2_contingency(contingency_table)\n",
    "\n",
    "print('The p-value is', p_value)"
   ]
  },
  {
   "cell_type": "code",
   "execution_count": 0,
   "metadata": {
    "application/vnd.databricks.v1+cell": {
     "cellMetadata": {
      "byteLimit": 2048000,
      "rowLimit": 10000
     },
     "inputWidgets": {},
     "nuid": "290ff7f0-a653-486e-9f83-20f1583dae81",
     "showTitle": false,
     "tableResultSettingsMap": {},
     "title": ""
    }
   },
   "outputs": [
    {
     "output_type": "stream",
     "name": "stdout",
     "output_type": "stream",
     "text": [
      "As the p-value 0.21298887487543447 is greater than the level of significance, we fail to reject the null hypothesis.\n"
     ]
    }
   ],
   "source": [
    "if p_value < 0.05:\n",
    "    print(f'As the p-value {p_value} is less than the level of significance, we reject the null hypothesis.')\n",
    "else:\n",
    "    print(f'As the p-value {p_value} is greater than the level of significance, we fail to reject the null hypothesis.')"
   ]
  },
  {
   "cell_type": "code",
   "execution_count": 0,
   "metadata": {
    "application/vnd.databricks.v1+cell": {
     "cellMetadata": {
      "byteLimit": 2048000,
      "rowLimit": 10000
     },
     "inputWidgets": {},
     "nuid": "c5f7ee43-909c-40c3-8892-7229dc58be65",
     "showTitle": false,
     "tableResultSettingsMap": {},
     "title": ""
    }
   },
   "outputs": [
    {
     "output_type": "display_data",
     "data": {
      "image/png": "[encoded data removed]"
     },
     "metadata": {
      "application/vnd.databricks.v1+output": {
       "addedWidgets": {},
       "arguments": {},
       "data": "data:image/png;base64,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\n",
       "datasetInfos": [],
       "metadata": {},
       "removedWidgets": [],
       "type": "image"
      }
     },
     "output_type": "display_data"
    }
   ],
   "source": [
    "df_new = df[df['landing_page'] == 'new']\n",
    "plt.figure(figsize=(8, 8))\n",
    "sns.boxplot(x='language_preferred', y='time_spent_on_the_page', showmeans=True, data=df_new)\n",
    "plt.xlabel('Language Preferred')\n",
    "plt.ylabel('Time Spent on the New Page')\n",
    "plt.title('Time Spent on the New Page for Different Language Users')\n",
    "plt.show()"
   ]
  },
  {
   "cell_type": "code",
   "execution_count": 0,
   "metadata": {
    "application/vnd.databricks.v1+cell": {
     "cellMetadata": {
      "byteLimit": 2048000,
      "rowLimit": 10000
     },
     "inputWidgets": {},
     "nuid": "7ebbaa74-3c3d-45b4-b307-624428c99067",
     "showTitle": false,
     "tableResultSettingsMap": {},
     "title": ""
    }
   },
   "outputs": [
    {
     "output_type": "stream",
     "name": "stdout",
     "output_type": "stream",
     "text": [
      "Out[49]: language_preferred\nEnglish    6.663750\nFrench     6.196471\nSpanish    5.835294\nName: time_spent_on_the_page, dtype: float64"
     ]
    }
   ],
   "source": [
    "df_new.groupby('language_preferred')['time_spent_on_the_page'].mean()"
   ]
  },
  {
   "cell_type": "code",
   "execution_count": 0,
   "metadata": {
    "application/vnd.databricks.v1+cell": {
     "cellMetadata": {
      "byteLimit": 2048000,
      "rowLimit": 10000
     },
     "inputWidgets": {},
     "nuid": "094435ea-397a-473a-8a85-7421aff835bd",
     "showTitle": false,
     "tableResultSettingsMap": {},
     "title": ""
    }
   },
   "outputs": [],
   "source": [
    "time_spent_English = df_new[df_new['language_preferred']==\"English\"]['time_spent_on_the_page']\n",
    "# Create subsetted data frames of the time spent on the new page by French and Spanish language users\n",
    "time_spent_French = df_new[df_new['language_preferred']==\"French\"]['time_spent_on_the_page']\n",
    "time_spent_Spanish = df_new[df_new['language_preferred']==\"Spanish\"]['time_spent_on_the_page']"
   ]
  },
  {
   "cell_type": "code",
   "execution_count": 0,
   "metadata": {
    "application/vnd.databricks.v1+cell": {
     "cellMetadata": {
      "byteLimit": 2048000,
      "rowLimit": 10000
     },
     "inputWidgets": {},
     "nuid": "7d742dd5-6b87-4fb7-8952-b12e58135527",
     "showTitle": false,
     "tableResultSettingsMap": {},
     "title": ""
    }
   },
   "outputs": [
    {
     "output_type": "stream",
     "name": "stdout",
     "output_type": "stream",
     "text": [
      "The p-value is 0.43204138694325955\n"
     ]
    }
   ],
   "source": [
    "from scipy.stats import f_oneway\n",
    "\n",
    "test_stat, p_value = f_oneway(time_spent_English, time_spent_French, time_spent_Spanish)\n",
    "\n",
    "print('The p-value is', p_value)"
   ]
  },
  {
   "cell_type": "code",
   "execution_count": 0,
   "metadata": {
    "application/vnd.databricks.v1+cell": {
     "cellMetadata": {
      "byteLimit": 2048000,
      "rowLimit": 10000
     },
     "inputWidgets": {},
     "nuid": "286866cc-6cfe-427d-87d9-6643360c565d",
     "showTitle": false,
     "tableResultSettingsMap": {},
     "title": ""
    }
   },
   "outputs": [
    {
     "output_type": "stream",
     "name": "stdout",
     "output_type": "stream",
     "text": [
      "As the p-value 0.43204138694325955 is greater than the level of significance, we fail to reject the null hypothesis.\n"
     ]
    }
   ],
   "source": [
    "if p_value < 0.05:\n",
    "    print(f'As the p-value {p_value} is less than the level of significance, we reject the null hypothesis.')\n",
    "else:\n",
    "    print(f'As the p-value {p_value} is greater than the level of significance, we fail to reject the null hypothesis.')"
   ]
  },
  {
   "cell_type": "code",
   "execution_count": 0,
   "metadata": {
    "application/vnd.databricks.v1+cell": {
     "cellMetadata": {
      "byteLimit": 2048000,
      "implicitDf": true,
      "rowLimit": 10000
     },
     "inputWidgets": {},
     "nuid": "b5f66379-6f7f-42ec-8e82-d0e0926a1721",
     "showTitle": false,
     "tableResultSettingsMap": {},
     "title": ""
    }
   },
   "outputs": [
    {
     "output_type": "display_data",
     "data": {
      "text/plain": [
       ""
      ]
     },
     "metadata": {
      "application/vnd.databricks.v1+output": {
       "arguments": {},
       "data": "",
       "errorSummary": "Command skipped",
       "errorTraceType": "ansi",
       "metadata": {},
       "type": "ipynbError"
      }
     },
     "output_type": "display_data"
    }
   ],
   "source": [
    "%sql\n",
    "\n",
    "/* Query the created temp table in a SQL cell */\n",
    "\n",
    "select * from `abtest-1_csv`"
   ]
  },
  {
   "cell_type": "code",
   "execution_count": 0,
   "metadata": {
    "application/vnd.databricks.v1+cell": {
     "cellMetadata": {
      "byteLimit": 2048000,
      "rowLimit": 10000
     },
     "inputWidgets": {},
     "nuid": "db9631f6-bb4a-42ca-8a3c-0d48af932331",
     "showTitle": false,
     "tableResultSettingsMap": {},
     "title": ""
    }
   },
   "outputs": [
    {
     "output_type": "display_data",
     "data": {
      "text/plain": [
       ""
      ]
     },
     "metadata": {
      "application/vnd.databricks.v1+output": {
       "arguments": {},
       "data": "",
       "errorSummary": "Command skipped",
       "errorTraceType": "ansi",
       "metadata": {},
       "type": "ipynbError"
      }
     },
     "output_type": "display_data"
    }
   ],
   "source": [
    "# With this registered as a temp view, it will only be available to this particular notebook. If you'd like other users to be able to query this table, you can also create a table from the DataFrame.\n",
    "# Once saved, this table will persist across cluster restarts as well as allow various users across different notebooks to query this data.\n",
    "# To do so, choose your table name and uncomment the bottom line.\n",
    "\n",
    "permanent_table_name = \"abtest-1_csv\"\n",
    "\n",
    "# df.write.format(\"parquet\").saveAsTable(permanent_table_name)"
   ]
  }
 ],
 "metadata": {
  "application/vnd.databricks.v1+notebook": {
   "computePreferences": null,
   "dashboards": [],
   "environmentMetadata": null,
   "language": "python",
   "notebookMetadata": {
    "mostRecentlyExecutedCommandWithImplicitDF": {
     "commandId": 1873706398420472,
     "dataframes": [
      "_sqldf"
     ]
    },
    "pythonIndentUnit": 4
   },
   "notebookName": "E-news Express",
   "widgets": {}
  }
 },
 "nbformat": 4,
 "nbformat_minor": 0
}
